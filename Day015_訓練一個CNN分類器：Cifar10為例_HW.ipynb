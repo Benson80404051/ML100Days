{
 "cells": [
  {
   "cell_type": "markdown",
   "metadata": {},
   "source": [
    "## 『本次練習內容』\n",
    "#### 運用這幾天所學觀念搭建一個CNN分類器"
   ]
  },
  {
   "cell_type": "markdown",
   "metadata": {},
   "source": [
    "## 『本次練習目的』\n",
    "  #### 熟悉CNN分類器搭建步驟與原理\n",
    "  #### 學員們可以嘗試不同搭法，如使用不同的Maxpooling層，用GlobalAveragePooling取代Flatten等等"
   ]
  },
  {
   "cell_type": "code",
   "execution_count": 1,
   "metadata": {},
   "outputs": [],
   "source": [
    "from keras.models import Sequential\n",
    "from keras.layers import Convolution2D\n",
    "from keras.layers import MaxPooling2D\n",
    "from keras.layers import Flatten\n",
    "from keras.layers import Dense\n",
    "from keras.layers import Dropout\n",
    "from keras.layers import BatchNormalization\n",
    "from keras.layers import GlobalAveragePooling2D\n",
    "from keras.optimizers import Adam\n",
    "from keras.utils import to_categorical\n",
    "from keras.datasets import cifar10\n",
    "import numpy as np\n",
    "import tensorflow as tf\n",
    "from sklearn.preprocessing import OneHotEncoder\n",
    "from sklearn.model_selection import train_test_split"
   ]
  },
  {
   "cell_type": "code",
   "execution_count": 2,
   "metadata": {},
   "outputs": [
    {
     "name": "stdout",
     "output_type": "stream",
     "text": [
      "(50000, 32, 32, 3)\n"
     ]
    }
   ],
   "source": [
    "(x_train, y_train), (x_test, y_test) = cifar10.load_data()\n",
    "\n",
    "print(x_train.shape) #(50000, 32, 32, 3)"
   ]
  },
  {
   "cell_type": "code",
   "execution_count": 3,
   "metadata": {},
   "outputs": [],
   "source": [
    "# Normalization\n",
    "def norm(x):\n",
    "    x = x/255.0\n",
    "    return x\n",
    "\n",
    "x_train = norm(x_train)\n",
    "x_test = norm(x_test)"
   ]
  },
  {
   "cell_type": "code",
   "execution_count": 5,
   "metadata": {},
   "outputs": [],
   "source": [
    "# onehot encodeing\n",
    "n_class = 10\n",
    "y_train = to_categorical(y_train, n_class)\n",
    "y_test = to_categorical(y_test, n_class)"
   ]
  },
  {
   "cell_type": "code",
   "execution_count": 6,
   "metadata": {},
   "outputs": [
    {
     "name": "stdout",
     "output_type": "stream",
     "text": [
      "x_train.shape: (40000, 32, 32, 3)   y_train.shape: (40000, 10)\n",
      "x_val.shape  : (10000, 32, 32, 3)   y_val.shape  : (10000, 10)\n"
     ]
    }
   ],
   "source": [
    "x_train, x_val, y_train, y_val = train_test_split(x_train, y_train, test_size=0.2, random_state=42, shuffle=True)\n",
    "print(f'x_train.shape: {x_train.shape}   y_train.shape: {y_train.shape}')\n",
    "print(f'x_val.shape  : {x_val.shape}   y_val.shape  : {y_val.shape}')"
   ]
  },
  {
   "cell_type": "code",
   "execution_count": 16,
   "metadata": {},
   "outputs": [
    {
     "name": "stdout",
     "output_type": "stream",
     "text": [
      "Model: \"sequential_4\"\n",
      "_________________________________________________________________\n",
      "Layer (type)                 Output Shape              Param #   \n",
      "=================================================================\n",
      "conv2d_12 (Conv2D)           (None, 32, 32, 32)        896       \n",
      "_________________________________________________________________\n",
      "batch_normalization_12 (Batc (None, 32, 32, 32)        128       \n",
      "_________________________________________________________________\n",
      "conv2d_13 (Conv2D)           (None, 32, 32, 32)        9248      \n",
      "_________________________________________________________________\n",
      "batch_normalization_13 (Batc (None, 32, 32, 32)        128       \n",
      "_________________________________________________________________\n",
      "conv2d_14 (Conv2D)           (None, 32, 32, 32)        9248      \n",
      "_________________________________________________________________\n",
      "batch_normalization_14 (Batc (None, 32, 32, 32)        128       \n",
      "_________________________________________________________________\n",
      "max_pooling2d (MaxPooling2D) (None, 16, 16, 32)        0         \n",
      "_________________________________________________________________\n",
      "flatten_3 (Flatten)          (None, 8192)              0         \n",
      "_________________________________________________________________\n",
      "dense_6 (Dense)              (None, 128)               1048704   \n",
      "_________________________________________________________________\n",
      "dense_7 (Dense)              (None, 10)                1290      \n",
      "=================================================================\n",
      "Total params: 1,069,770\n",
      "Trainable params: 1,069,578\n",
      "Non-trainable params: 192\n",
      "_________________________________________________________________\n"
     ]
    }
   ],
   "source": [
    "\n",
    "classifier=Sequential()\n",
    "input_shape = (32, 32, 3)\n",
    "#卷積組合\n",
    "classifier.add(Convolution2D(filters=32, \n",
    "                             kernel_size=(3, 3), \n",
    "                             padding='same', \n",
    "                             input_shape=input_shape))#32,3,3,input_shape=(32,32,3),activation='relu''\n",
    "classifier.add(BatchNormalization(momentum=0.95, epsilon=0.001,))\n",
    "\n",
    "classifier.add(Convolution2D(filters=32, kernel_size=(3, 3), padding='same'))\n",
    "classifier.add(BatchNormalization(momentum=0.95, epsilon=0.001,))\n",
    "#classifier.add(MaxPooling2D(pool_size=(2,2)))\n",
    "\n",
    "#卷積組合\n",
    "classifier.add(Convolution2D(filters=32, \n",
    "                             kernel_size=(3, 3), \n",
    "                             padding='same'))\n",
    "classifier.add(BatchNormalization(momentum=0.95, epsilon=0.001,))\n",
    "classifier.add(MaxPooling2D(pool_size=(2,2)))\n",
    "\n",
    "#flatten\n",
    "classifier.add(Flatten())\n",
    "\n",
    "#FC\n",
    "classifier.add(Dense(units=128,activation='relu'))\n",
    "\n",
    "#輸出\n",
    "classifier.add(Dense(units=n_class,activation='softmax'))\n",
    "\n",
    "classifier.summary()"
   ]
  },
  {
   "cell_type": "code",
   "execution_count": 17,
   "metadata": {},
   "outputs": [
    {
     "name": "stdout",
     "output_type": "stream",
     "text": [
      "Epoch 1/40\n",
      "1000/1000 [==============================] - 185s 185ms/step - loss: 1.5722 - accuracy: 0.4447\n",
      "Epoch 2/40\n",
      "1000/1000 [==============================] - 238s 238ms/step - loss: 1.1437 - accuracy: 0.6003\n",
      "Epoch 3/40\n",
      "1000/1000 [==============================] - 205s 205ms/step - loss: 0.9972 - accuracy: 0.6514\n",
      "Epoch 4/40\n",
      "1000/1000 [==============================] - 218s 218ms/step - loss: 0.8927 - accuracy: 0.6884\n",
      "Epoch 5/40\n",
      "1000/1000 [==============================] - 227s 227ms/step - loss: 0.8045 - accuracy: 0.7201\n",
      "Epoch 6/40\n",
      "1000/1000 [==============================] - 225s 225ms/step - loss: 0.7233 - accuracy: 0.7465\n",
      "Epoch 7/40\n",
      "1000/1000 [==============================] - 211s 211ms/step - loss: 0.6458 - accuracy: 0.7745\n",
      "Epoch 8/40\n",
      "1000/1000 [==============================] - 232s 232ms/step - loss: 0.5649 - accuracy: 0.8007\n",
      "Epoch 9/40\n",
      "1000/1000 [==============================] - 225s 225ms/step - loss: 0.4864 - accuracy: 0.8318\n",
      "Epoch 10/40\n",
      "1000/1000 [==============================] - 219s 219ms/step - loss: 0.4200 - accuracy: 0.8522\n",
      "Epoch 11/40\n",
      "1000/1000 [==============================] - 228s 228ms/step - loss: 0.3633 - accuracy: 0.8735\n",
      "Epoch 12/40\n",
      "1000/1000 [==============================] - 236s 236ms/step - loss: 0.3102 - accuracy: 0.8903\n",
      "Epoch 13/40\n",
      "1000/1000 [==============================] - 216s 216ms/step - loss: 0.2708 - accuracy: 0.9054\n",
      "Epoch 14/40\n",
      "1000/1000 [==============================] - 201s 201ms/step - loss: 0.2403 - accuracy: 0.9147\n",
      "Epoch 15/40\n",
      "1000/1000 [==============================] - 208s 208ms/step - loss: 0.2153 - accuracy: 0.9260\n",
      "Epoch 16/40\n",
      "1000/1000 [==============================] - 200s 200ms/step - loss: 0.1829 - accuracy: 0.9373\n",
      "Epoch 17/40\n",
      "1000/1000 [==============================] - 199s 199ms/step - loss: 0.1649 - accuracy: 0.9439\n",
      "Epoch 18/40\n",
      "1000/1000 [==============================] - 196s 196ms/step - loss: 0.1516 - accuracy: 0.9458\n",
      "Epoch 19/40\n",
      "1000/1000 [==============================] - 238s 238ms/step - loss: 0.1444 - accuracy: 0.9497\n",
      "Epoch 20/40\n",
      "1000/1000 [==============================] - 233s 233ms/step - loss: 0.1283 - accuracy: 0.9563\n",
      "Epoch 21/40\n",
      "1000/1000 [==============================] - 194s 194ms/step - loss: 0.1149 - accuracy: 0.9603\n",
      "Epoch 22/40\n",
      "1000/1000 [==============================] - 193s 193ms/step - loss: 0.1171 - accuracy: 0.9591\n",
      "Epoch 23/40\n",
      "1000/1000 [==============================] - 180s 180ms/step - loss: 0.1020 - accuracy: 0.9654\n",
      "Epoch 24/40\n",
      "1000/1000 [==============================] - 215s 215ms/step - loss: 0.0952 - accuracy: 0.9675\n",
      "Epoch 25/40\n",
      "1000/1000 [==============================] - 218s 218ms/step - loss: 0.0966 - accuracy: 0.9673\n",
      "Epoch 26/40\n",
      "1000/1000 [==============================] - 219s 219ms/step - loss: 0.0927 - accuracy: 0.9695\n",
      "Epoch 27/40\n",
      "1000/1000 [==============================] - 218s 218ms/step - loss: 0.0867 - accuracy: 0.9707\n",
      "Epoch 28/40\n",
      "1000/1000 [==============================] - 216s 216ms/step - loss: 0.0796 - accuracy: 0.9733\n",
      "Epoch 29/40\n",
      "1000/1000 [==============================] - 217s 217ms/step - loss: 0.0748 - accuracy: 0.9753\n",
      "Epoch 30/40\n",
      "1000/1000 [==============================] - 186s 186ms/step - loss: 0.0719 - accuracy: 0.9754\n",
      "Epoch 31/40\n",
      "1000/1000 [==============================] - 170s 170ms/step - loss: 0.0792 - accuracy: 0.9733\n",
      "Epoch 32/40\n",
      "1000/1000 [==============================] - 180s 180ms/step - loss: 0.0693 - accuracy: 0.9774\n",
      "Epoch 33/40\n",
      "1000/1000 [==============================] - 176s 176ms/step - loss: 0.0658 - accuracy: 0.9780\n",
      "Epoch 34/40\n",
      "1000/1000 [==============================] - 188s 188ms/step - loss: 0.0797 - accuracy: 0.9742\n",
      "Epoch 35/40\n",
      "1000/1000 [==============================] - 181s 181ms/step - loss: 0.0589 - accuracy: 0.9797\n",
      "Epoch 36/40\n",
      "1000/1000 [==============================] - 197s 197ms/step - loss: 0.0638 - accuracy: 0.9796\n",
      "Epoch 37/40\n",
      "1000/1000 [==============================] - 192s 192ms/step - loss: 0.0529 - accuracy: 0.9822\n",
      "Epoch 38/40\n",
      "1000/1000 [==============================] - 180s 180ms/step - loss: 0.0607 - accuracy: 0.9797\n",
      "Epoch 39/40\n",
      "1000/1000 [==============================] - 185s 185ms/step - loss: 0.0688 - accuracy: 0.9776\n",
      "Epoch 40/40\n",
      "1000/1000 [==============================] - 180s 180ms/step - loss: 0.0532 - accuracy: 0.9826\n"
     ]
    },
    {
     "data": {
      "text/plain": [
       "<tensorflow.python.keras.callbacks.History at 0x2b1b4514708>"
      ]
     },
     "execution_count": 17,
     "metadata": {},
     "output_type": "execute_result"
    }
   ],
   "source": [
    "#超過兩個就要選categorical_crossentrophy\n",
    "classifier.compile(optimizer = Adam(learning_rate=0.001), loss = 'categorical_crossentropy', metrics = ['accuracy'])\n",
    "classifier.fit(x_train,y_train,batch_size=40,epochs=40)"
   ]
  },
  {
   "cell_type": "code",
   "execution_count": 41,
   "metadata": {},
   "outputs": [
    {
     "data": {
      "text/plain": [
       "array([[1.6151066e-09, 1.2966266e-09, 1.9070538e-13, ..., 2.1066679e-10,\n",
       "        8.1977610e-13, 9.9928802e-01],\n",
       "       [2.0094356e-21, 1.3440259e-15, 8.5677544e-24, ..., 5.3207163e-30,\n",
       "        1.0000000e+00, 6.8329423e-14],\n",
       "       [3.0047799e-05, 2.5707032e-16, 1.7698890e-09, ..., 4.6172151e-18,\n",
       "        9.9996996e-01, 1.7684090e-15],\n",
       "       ...,\n",
       "       [2.4426094e-14, 4.1078292e-16, 1.3528060e-38, ..., 0.0000000e+00,\n",
       "        1.0000000e+00, 2.5518735e-24],\n",
       "       [3.5455052e-17, 1.5624350e-17, 3.5119663e-10, ..., 1.3961680e-09,\n",
       "        7.2356752e-20, 3.2852360e-20],\n",
       "       [1.4343563e-17, 3.7459074e-13, 1.2625048e-07, ..., 9.6043351e-14,\n",
       "        1.1896689e-15, 4.1809761e-16]], dtype=float32)"
      ]
     },
     "execution_count": 41,
     "metadata": {},
     "output_type": "execute_result"
    }
   ],
   "source": [
    "y_pred = classifier.predict(x_val)\n",
    "y_pred"
   ]
  },
  {
   "cell_type": "code",
   "execution_count": 42,
   "metadata": {},
   "outputs": [
    {
     "data": {
      "text/plain": [
       "array([9, 8, 8, ..., 8, 4, 6], dtype=int64)"
      ]
     },
     "execution_count": 42,
     "metadata": {},
     "output_type": "execute_result"
    }
   ],
   "source": [
    "y_pred1 = np.argmax(y_pred, axis=1)\n",
    "y_pred1"
   ]
  },
  {
   "cell_type": "code",
   "execution_count": 43,
   "metadata": {},
   "outputs": [
    {
     "data": {
      "text/plain": [
       "array([7, 8, 0, ..., 8, 2, 6], dtype=int64)"
      ]
     },
     "execution_count": 43,
     "metadata": {},
     "output_type": "execute_result"
    }
   ],
   "source": [
    "y_val1 = np.argmax(y_val, axis=1)\n",
    "y_val1"
   ]
  },
  {
   "cell_type": "code",
   "execution_count": 45,
   "metadata": {},
   "outputs": [
    {
     "name": "stdout",
     "output_type": "stream",
     "text": [
      "Accuracy: 0.6125\n"
     ]
    }
   ],
   "source": [
    "score = 0\n",
    "\n",
    "for i, j in zip(y_pred1, y_val1):\n",
    "    if i == j:\n",
    "        score += 1\n",
    "print(f'Accuracy: {score/len(y_val)}')"
   ]
  },
  {
   "cell_type": "markdown",
   "metadata": {},
   "source": [
    "## 預測新圖片，輸入影像前處理要與訓練時相同\n",
    "#### ((X-mean)/(std+1e-7) ):這裡的mean跟std是訓練集的\n",
    "## 維度如下方示範"
   ]
  },
  {
   "cell_type": "code",
   "execution_count": null,
   "metadata": {},
   "outputs": [],
   "source": [
    "input_example=(np.zeros(shape=(1,32,32,3))-mean_train)/(std_train+1e-7) \n",
    "classifier.predict(input_example)"
   ]
  }
 ],
 "metadata": {
  "kernelspec": {
   "display_name": "Python 3 (ipykernel)",
   "language": "python",
   "name": "python3"
  },
  "language_info": {
   "codemirror_mode": {
    "name": "ipython",
    "version": 3
   },
   "file_extension": ".py",
   "mimetype": "text/x-python",
   "name": "python",
   "nbconvert_exporter": "python",
   "pygments_lexer": "ipython3",
   "version": "3.7.6"
  }
 },
 "nbformat": 4,
 "nbformat_minor": 2
}
